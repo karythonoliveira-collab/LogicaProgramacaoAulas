{
 "cells": [
  {
   "cell_type": "markdown",
   "id": "7c9b2084",
   "metadata": {},
   "source": [
    "# Lista de Exercícios de Lógica de Programação com Python\n"
   ]
  },
  {
   "cell_type": "markdown",
   "id": "7b466a64",
   "metadata": {},
   "source": [
    "## Exercício 1 — Posto de Gasolina\n",
    "Um posto vende gasolina a R$ 5,20 por litro.\n",
    "Peça ao usuário quantos litros ele deseja abastecer e mostre o valor total a pagar.\n",
    "\n",
    "**Comando:**\n",
    "```python\n",
    "# Entrada: litros desejados\n",
    "# Saída: valor total do abastecimento\n",
    "```"
   ]
  },
  {
   "cell_type": "code",
   "execution_count": null,
   "id": "79d0a575",
   "metadata": {},
   "outputs": [],
   "source": [
    "# Escreva seu código aqui\n"
   ]
  },
  {
   "cell_type": "markdown",
   "id": "2a1a481c",
   "metadata": {},
   "source": [
    "## Exercício 2 — Média Escolar\n",
    "Uma escola quer calcular a média de dois bimestres de um aluno.\n",
    "Peça ao usuário as duas notas e mostre se ele foi **aprovado** (média >= 6) ou **reprovado**.\n",
    "\n",
    "**Comando:**\n",
    "```python\n",
    "# Entrada: nota1 e nota2\n",
    "# Saída: 'Aprovado' ou 'Reprovado'\n",
    "```"
   ]
  },
  {
   "cell_type": "code",
   "execution_count": null,
   "id": "255fd197",
   "metadata": {},
   "outputs": [],
   "source": [
    "# Escreva seu código aqui\n"
   ]
  },
  {
   "cell_type": "markdown",
   "id": "40b856d5",
   "metadata": {},
   "source": [
    "## Exercício 3 — Contagem Regressiva de Lançamento\n",
    "Um foguete será lançado e precisa fazer uma contagem regressiva de 10 até 0.\n",
    "Mostre a contagem na tela usando `while`.\n",
    "\n",
    "**Comando:**\n",
    "```python\n",
    "# Saída: 10, 9, 8... 0 e 'Foguete lançado!'\n",
    "```"
   ]
  },
  {
   "cell_type": "code",
   "execution_count": null,
   "id": "7544e75c",
   "metadata": {},
   "outputs": [],
   "source": [
    "# Escreva seu código aqui\n"
   ]
  },
  {
   "cell_type": "markdown",
   "id": "3a3d4776",
   "metadata": {},
   "source": [
    "## Exercício 4 — Par ou Ímpar\n",
    "Peça ao usuário um número inteiro e diga se ele é **par** ou **ímpar** usando operador ternário.\n",
    "\n",
    "**Comando:**\n",
    "```python\n",
    "# Entrada: número inteiro\n",
    "# Saída: 'Par' ou 'Ímpar'\n",
    "```"
   ]
  },
  {
   "cell_type": "code",
   "execution_count": null,
   "id": "394510bb",
   "metadata": {},
   "outputs": [],
   "source": [
    "# Escreva seu código aqui\n"
   ]
  },
  {
   "cell_type": "markdown",
   "id": "6e216713",
   "metadata": {},
   "source": [
    "## Exercício 5 — Tabuada Interativa\n",
    "Peça ao usuário um número e mostre sua tabuada de 1 a 10 usando `for`.\n",
    "\n",
    "**Comando:**\n",
    "```python\n",
    "# Entrada: número inteiro\n",
    "# Saída: tabuada do número\n",
    "```"
   ]
  },
  {
   "cell_type": "code",
   "execution_count": null,
   "id": "ca51040d",
   "metadata": {},
   "outputs": [],
   "source": [
    "# Escreva seu código aqui\n"
   ]
  },
  {
   "cell_type": "markdown",
   "id": "30521213",
   "metadata": {},
   "source": [
    "## Exercício 6 — Caixa de Loja\n",
    "Uma loja vende camisetas a R$ 25 cada.\n",
    "Peça ao usuário quantas camisetas ele quer e mostre o valor final.\n",
    "Se o cliente comprar mais de 5 camisetas, ele ganha 10% de desconto.\n",
    "\n",
    "**Comando:**\n",
    "```python\n",
    "# Entrada: quantidade de camisetas\n",
    "# Saída: valor final com ou sem desconto\n",
    "```"
   ]
  },
  {
   "cell_type": "code",
   "execution_count": null,
   "id": "eb8f74e0",
   "metadata": {},
   "outputs": [],
   "source": [
    "# Escreva seu código aqui\n"
   ]
  },
  {
   "cell_type": "markdown",
   "id": "b708fec2",
   "metadata": {},
   "source": [
    "## Exercício 7 — Cadastro de Senha\n",
    "Peça ao usuário para criar uma senha e, depois, peça para confirmar digitando novamente.\n",
    "Enquanto as senhas forem diferentes, peça para tentar novamente.\n",
    "\n",
    "**Comando:**\n",
    "```python\n",
    "# Entrada: senha e confirmação\n",
    "# Saída: 'Senha cadastrada com sucesso!'\n",
    "```"
   ]
  },
  {
   "cell_type": "code",
   "execution_count": null,
   "id": "d891765f",
   "metadata": {},
   "outputs": [],
   "source": [
    "# Escreva seu código aqui\n"
   ]
  },
  {
   "cell_type": "markdown",
   "id": "f0304027",
   "metadata": {},
   "source": [
    "## Exercício 8 — Corrida de Voltas\n",
    "Peça ao usuário o número de voltas que ele deseja correr.\n",
    "Use um `for` para mostrar 'Volta X concluída' até terminar todas as voltas.\n",
    "\n",
    "**Comando:**\n",
    "```python\n",
    "# Entrada: número de voltas\n",
    "# Saída: mensagens de cada volta concluída\n",
    "```"
   ]
  },
  {
   "cell_type": "code",
   "execution_count": null,
   "id": "76df8fc2",
   "metadata": {},
   "outputs": [],
   "source": [
    "# Escreva seu código aqui\n"
   ]
  },
  {
   "cell_type": "markdown",
   "id": "f01f26f7",
   "metadata": {},
   "source": [
    "## Exercício 9 — Controle de Estoque\n",
    "Um depósito tem inicialmente 100 unidades de um produto.\n",
    "Peça ao usuário para informar quantos itens serão vendidos a cada operação.\n",
    "Continue até que o estoque acabe.\n",
    "\n",
    "**Comando:**\n",
    "```python\n",
    "# Entrada: unidades vendidas\n",
    "# Saída: estoque restante a cada venda\n",
    "```"
   ]
  },
  {
   "cell_type": "code",
   "execution_count": null,
   "id": "50608d62",
   "metadata": {},
   "outputs": [],
   "source": [
    "# Escreva seu código aqui\n"
   ]
  },
  {
   "cell_type": "markdown",
   "id": "a092f9d1",
   "metadata": {},
   "source": [
    "## Exercício 10 — Conversor de Temperatura\n",
    "Peça ao usuário uma temperatura em graus Celsius e converta para Fahrenheit usando a fórmula:\n",
    "**F = (C × 9/5) + 32**\n",
    "\n",
    "**Comando:**\n",
    "```python\n",
    "# Entrada: temperatura em Celsius\n",
    "# Saída: temperatura em Fahrenheit\n",
    "```"
   ]
  },
  {
   "cell_type": "code",
   "execution_count": null,
   "id": "e548e3f7",
   "metadata": {},
   "outputs": [],
   "source": [
    "# Escreva seu código aqui\n"
   ]
  }
 ],
 "metadata": {
  "language_info": {
   "name": "python"
  }
 },
 "nbformat": 4,
 "nbformat_minor": 5
}
